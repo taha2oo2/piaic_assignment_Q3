{
 "cells": [
  {
   "cell_type": "markdown",
   "id": "84d92cd9",
   "metadata": {},
   "source": [
    "# Assignment"
   ]
  },
  {
   "cell_type": "code",
   "execution_count": 1,
   "id": "2fcdbdc0",
   "metadata": {},
   "outputs": [
    {
     "name": "stdout",
     "output_type": "stream",
     "text": [
      "Taha\n"
     ]
    }
   ],
   "source": [
    "name='Taha'\n",
    "print(name)"
   ]
  },
  {
   "cell_type": "code",
   "execution_count": 2,
   "id": "da7cbeb8",
   "metadata": {},
   "outputs": [
    {
     "name": "stdout",
     "output_type": "stream",
     "text": [
      "Sir Ammad Once said,\"It is Better to stand alone rather than standing in a Group of Fools\"\n"
     ]
    }
   ],
   "source": [
    "quote='Sir Ammad Once said,\"It is Better to stand alone rather than standing in a Group of Fools\"'\n",
    "print(quote)"
   ]
  },
  {
   "cell_type": "code",
   "execution_count": 3,
   "id": "2b10621e",
   "metadata": {},
   "outputs": [
    {
     "name": "stdout",
     "output_type": "stream",
     "text": [
      "Enter Area of Your circle\n",
      " 0.5\n",
      "Input Radius: 0.5\n",
      "Area of Circle with radius 0.5 is 0.7855\n"
     ]
    }
   ],
   "source": [
    "radius=float(input(\"Enter Area of Your circle\\n \"))\n",
    "print(\"Input Radius:\",radius)\n",
    "pi=3.142\n",
    "A=pi*radius*radius\n",
    "print(\"Area of Circle with radius\",radius,\"is\",A)\n"
   ]
  },
  {
   "cell_type": "code",
   "execution_count": 9,
   "id": "a8e6a35a",
   "metadata": {},
   "outputs": [
    {
     "name": "stdout",
     "output_type": "stream",
     "text": [
      "Enter a number:0\n",
      "\n",
      " Zero Entered\n"
     ]
    }
   ],
   "source": [
    "num=int(input(\"Enter a number:\"))\n",
    "if (num>0):\n",
    "    print(\"\\n Positive number Entered\")\n",
    "elif(num<0):\n",
    "    print(\"\\nNegative number Entered\")\n",
    "else:\n",
    "    print(\"\\n Zero Entered\")"
   ]
  },
  {
   "cell_type": "code",
   "execution_count": 32,
   "id": "c187031a",
   "metadata": {},
   "outputs": [
    {
     "name": "stdout",
     "output_type": "stream",
     "text": [
      "Enter an AlphabetA\n",
      "Letter A is a vowel\n"
     ]
    }
   ],
   "source": [
    "alp=(\"a\",\"e\",\"i\",\"o\",\"u\")\n",
    "a=str(input(\"Enter an Alphabet\"))\n",
    "b=a.lower()\n",
    "for i in range(0,5):\n",
    "    if(b==alp[i]):\n",
    "        print(\"Letter\",a,\"is a vowel\")\n",
    "        break\n",
    "    else:\n",
    "        print(\"Letter\",a,\"is not a vowel\")\n",
    "        break"
   ]
  },
  {
   "cell_type": "code",
   "execution_count": 56,
   "id": "c780501a",
   "metadata": {},
   "outputs": [
    {
     "name": "stdout",
     "output_type": "stream",
     "text": [
      "Enter  Height in cm: 180\n",
      "Enter Weight in Kg: 75\n",
      "Yor BMI is  23.148148148148145\n"
     ]
    }
   ],
   "source": [
    "h=int(input(\"Enter  Height in cm: \"))\n",
    "kg=int(input(\"Enter Weight in Kg: \"))\n",
    "m=(h/100)\n",
    "bmi=(kg/(m*m))\n",
    "print(\"Yor BMI is \",bmi)"
   ]
  },
  {
   "cell_type": "code",
   "execution_count": 72,
   "id": "feddea0a",
   "metadata": {},
   "outputs": [
    {
     "name": "stdout",
     "output_type": "stream",
     "text": [
      "faizan\n",
      "adnan\n",
      "jibran\n",
      "maaz\n",
      "kashan\n"
     ]
    }
   ],
   "source": [
    "name=['faizan','adnan','jibran','maaz','kashan']\n",
    "for i in name:\n",
    "    print(i)\n"
   ]
  },
  {
   "cell_type": "code",
   "execution_count": 74,
   "id": "c86fcd4f",
   "metadata": {},
   "outputs": [
    {
     "name": "stdout",
     "output_type": "stream",
     "text": [
      "Faizan Enjoy!\n",
      "Adnan Enjoy!\n",
      "Jibran Enjoy!\n",
      "Maaz Enjoy!\n",
      "Kashan Enjoy!\n"
     ]
    }
   ],
   "source": [
    "name=['Faizan','Adnan','Jibran','Maaz','Kashan']\n",
    "message=\"Enjoy!\"\n",
    "for i in name:\n",
    "    print(i,message)"
   ]
  },
  {
   "cell_type": "code",
   "execution_count": 77,
   "id": "656d9768",
   "metadata": {},
   "outputs": [
    {
     "name": "stdout",
     "output_type": "stream",
     "text": [
      "Three items from the start of the list are: ['Sada Burger', 'Anday wala Burger', 'Kaleji burger']\n",
      "Three items from the middle of the list are: ['Murghi Burger', 'Murghi Paneer Burger', 'Zinger burger']\n",
      "Three items from the end of the list are: ['Zinger lehsan Burger', 'Zinger Paneer lehsan Burger', 'Chicken Mirch Burger']\n"
     ]
    }
   ],
   "source": [
    "food=['Sada Burger','Anday wala Burger','Kaleji burger','Murghi Burger','Murghi Paneer Burger',\n",
    "      'Zinger burger','Zinger paneer burger','Zinger lehsan Burger','Zinger Paneer lehsan Burger','Chicken Mirch Burger']\n",
    "a=food[0:3]\n",
    "b=food[3:6]\n",
    "c=food[7:10]\n",
    "print(\"Three items from the start of the list are:\",a)\n",
    "print(\"Three items from the middle of the list are:\",b)\n",
    "print(\"Three items from the end of the list are:\",c)\n"
   ]
  },
  {
   "cell_type": "code",
   "execution_count": 83,
   "id": "14c680e6",
   "metadata": {},
   "outputs": [
    {
     "name": "stdout",
     "output_type": "stream",
     "text": [
      "Separate List\n",
      " My favorite pizzas are: Sada Burger\n",
      " My favorite pizzas are: Anday wala Burger\n",
      " My favorite pizzas are: Kaleji burger\n",
      " My favorite pizzas are: Murghi Burger\n",
      " My favorite pizzas are: Murghi Paneer Burger\n",
      " My favorite pizzas are: Zinger burger\n",
      " My favorite pizzas are: Zinger paneer burger\n",
      " My favorite pizzas are: Zinger lehsan Burger\n",
      " My favorite pizzas are: Zinger Paneer lehsan Burger\n",
      " My favorite pizzas are: Chicken Mirch Burger\n",
      "My friend’s favorite foods are: Sada Burger\n",
      "My friend’s favorite foods are: Anday wala Burger\n",
      "My friend’s favorite foods are: Kaleji burger\n",
      "My friend’s favorite foods are: Murghi Burger\n",
      "My friend’s favorite foods are: Murghi Paneer Burger\n",
      "My friend’s favorite foods are: Zinger burger\n",
      "My friend’s favorite foods are: Zinger paneer burger\n",
      "My friend’s favorite foods are: Zinger lehsan Burger\n",
      "My friend’s favorite foods are: Zinger Paneer lehsan Burger\n",
      "My friend’s favorite foods are: Chicken Mirch Burger\n",
      "My friend’s favorite foods are: Pizza\n"
     ]
    }
   ],
   "source": [
    "food=['Sada Burger','Anday wala Burger','Kaleji burger','Murghi Burger','Murghi Paneer Burger',\n",
    "      'Zinger burger','Zinger paneer burger','Zinger lehsan Burger','Zinger Paneer lehsan Burger','Chicken Mirch Burger']\n",
    "friend_foods=['Sada Burger','Anday wala Burger','Kaleji burger','Murghi Burger','Murghi Paneer Burger',\n",
    "      'Zinger burger','Zinger paneer burger','Zinger lehsan Burger','Zinger Paneer lehsan Burger','Chicken Mirch Burger']\n",
    "friend_foods.append(\"Pizza\")\n",
    "if(food==friend_foods):\n",
    "    print(\"Same List\")\n",
    "else:\n",
    "    print(\"Separate List\")\n",
    "for i in food:\n",
    "    print(\" My favorite pizzas are:\",i)\n",
    "for i in friend_foods:\n",
    "    print(\"My friend’s favorite foods are:\",i)"
   ]
  },
  {
   "cell_type": "code",
   "execution_count": null,
   "id": "9cf11043",
   "metadata": {},
   "outputs": [],
   "source": []
  }
 ],
 "metadata": {
  "kernelspec": {
   "display_name": "Python 3 (ipykernel)",
   "language": "python",
   "name": "python3"
  },
  "language_info": {
   "codemirror_mode": {
    "name": "ipython",
    "version": 3
   },
   "file_extension": ".py",
   "mimetype": "text/x-python",
   "name": "python",
   "nbconvert_exporter": "python",
   "pygments_lexer": "ipython3",
   "version": "3.9.12"
  }
 },
 "nbformat": 4,
 "nbformat_minor": 5
}
